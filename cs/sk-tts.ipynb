{
 "cells": [
  {
   "cell_type": "code",
   "execution_count": 97,
   "metadata": {
    "pycharm": {
     "name": "#%%\n"
    }
   },
   "outputs": [],
   "source": [
    "import numpy as np\n",
    "from sklearn.model_selection import train_test_split"
   ]
  },
  {
   "cell_type": "code",
   "execution_count": 98,
   "metadata": {
    "pycharm": {
     "name": "#%%\n"
    }
   },
   "outputs": [],
   "source": [
    "a = np.arange(1,101)"
   ]
  },
  {
   "cell_type": "code",
   "execution_count": 99,
   "metadata": {
    "pycharm": {
     "name": "#%%\n"
    }
   },
   "outputs": [
    {
     "data": {
      "text/plain": "array([  1,   2,   3,   4,   5,   6,   7,   8,   9,  10,  11,  12,  13,\n        14,  15,  16,  17,  18,  19,  20,  21,  22,  23,  24,  25,  26,\n        27,  28,  29,  30,  31,  32,  33,  34,  35,  36,  37,  38,  39,\n        40,  41,  42,  43,  44,  45,  46,  47,  48,  49,  50,  51,  52,\n        53,  54,  55,  56,  57,  58,  59,  60,  61,  62,  63,  64,  65,\n        66,  67,  68,  69,  70,  71,  72,  73,  74,  75,  76,  77,  78,\n        79,  80,  81,  82,  83,  84,  85,  86,  87,  88,  89,  90,  91,\n        92,  93,  94,  95,  96,  97,  98,  99, 100])"
     },
     "execution_count": 99,
     "metadata": {},
     "output_type": "execute_result"
    }
   ],
   "source": [
    "a"
   ]
  },
  {
   "cell_type": "code",
   "execution_count": 100,
   "metadata": {
    "pycharm": {
     "name": "#%%\n"
    }
   },
   "outputs": [
    {
     "data": {
      "text/plain": "array([501, 502, 503, 504, 505, 506, 507, 508, 509, 510, 511, 512, 513,\n       514, 515, 516, 517, 518, 519, 520, 521, 522, 523, 524, 525, 526,\n       527, 528, 529, 530, 531, 532, 533, 534, 535, 536, 537, 538, 539,\n       540, 541, 542, 543, 544, 545, 546, 547, 548, 549, 550, 551, 552,\n       553, 554, 555, 556, 557, 558, 559, 560, 561, 562, 563, 564, 565,\n       566, 567, 568, 569, 570, 571, 572, 573, 574, 575, 576, 577, 578,\n       579, 580, 581, 582, 583, 584, 585, 586, 587, 588, 589, 590, 591,\n       592, 593, 594, 595, 596, 597, 598, 599, 600])"
     },
     "execution_count": 100,
     "metadata": {},
     "output_type": "execute_result"
    }
   ],
   "source": [
    "b = np.arange(501,601)\n",
    "b"
   ]
  },
  {
   "cell_type": "code",
   "execution_count": 101,
   "metadata": {
    "pycharm": {
     "name": "#%%\n"
    }
   },
   "outputs": [
    {
     "data": {
      "text/plain": "[array([59, 48, 77, 21,  3, 51, 56, 81, 98, 32, 13, 52, 97, 42, 49,  2,  4,\n        65, 74, 68, 92, 57, 29, 73, 99, 22, 87, 67, 78, 25, 80, 64, 33, 16,\n        62, 26, 85, 72, 88, 11, 83, 91, 55, 18, 54, 93, 63, 71, 75, 95, 27,\n        79, 43, 50, 69,  1, 82, 44, 14, 66, 35, 17, 86, 20, 34, 39, 10, 58,\n        15, 37, 19, 84,  7, 60, 76]),\n array([ 40,  41,  94,   9,  30,  31,  90,  61,  53,  47,  96,   5,  24,\n         89,  36,  45,  12,  38,   8,  46,   6,  23,  28,  70, 100])]"
     },
     "execution_count": 101,
     "metadata": {},
     "output_type": "execute_result"
    }
   ],
   "source": [
    "train_test_split(a)"
   ]
  },
  {
   "cell_type": "code",
   "execution_count": 102,
   "metadata": {
    "pycharm": {
     "name": "#%%\n"
    }
   },
   "outputs": [],
   "source": [
    "a_train, a_test, b_train, b_test = train_test_split(a, b, test_size=0.2, random_state=42)"
   ]
  },
  {
   "cell_type": "code",
   "execution_count": 103,
   "metadata": {
    "pycharm": {
     "name": "#%%\n"
    }
   },
   "outputs": [
    {
     "data": {
      "text/plain": "((80,), (20,))"
     },
     "execution_count": 103,
     "metadata": {},
     "output_type": "execute_result"
    }
   ],
   "source": [
    "a_train.shape, a_test.shape"
   ]
  },
  {
   "cell_type": "code",
   "execution_count": 104,
   "metadata": {
    "pycharm": {
     "name": "#%%\n"
    }
   },
   "outputs": [
    {
     "data": {
      "text/plain": "array([ 56,  89,  27,  43,  70,  16,  41,  97,  10,  73,  12,  48,  86,\n        29,  94,   6,  67,  66,  36,  17,  50,  35,   8,  96,  28,  20,\n        82,  26,  63,  14,  25,   4,  18,  39,   9,  79,   7,  65,  37,\n        90,  57, 100,  55,  44,  51,  68,  47,  69,  62,  98,  80,  42,\n        59,  49,  99,  58,  76,  33,  95,  60,  64,  85,  38,  30,   2,\n        53,  22,   3,  24,  88,  92,  75,  87,  83,  21,  61,  72,  15,\n        93,  52])"
     },
     "execution_count": 104,
     "metadata": {},
     "output_type": "execute_result"
    }
   ],
   "source": [
    "a_train"
   ]
  },
  {
   "cell_type": "code",
   "execution_count": 105,
   "metadata": {
    "pycharm": {
     "name": "#%%\n"
    }
   },
   "outputs": [
    {
     "data": {
      "text/plain": "array([84, 54, 71, 46, 45, 40, 23, 81, 11,  1, 19, 31, 74, 34, 91,  5, 77,\n       78, 13, 32])"
     },
     "execution_count": 105,
     "metadata": {},
     "output_type": "execute_result"
    }
   ],
   "source": [
    "a_test"
   ]
  },
  {
   "cell_type": "code",
   "execution_count": 106,
   "metadata": {
    "pycharm": {
     "name": "#%%\n"
    }
   },
   "outputs": [
    {
     "data": {
      "text/plain": "((80,), (20,))"
     },
     "execution_count": 106,
     "metadata": {},
     "output_type": "execute_result"
    }
   ],
   "source": [
    "b_train.shape, b_test.shape"
   ]
  },
  {
   "cell_type": "code",
   "execution_count": 107,
   "metadata": {
    "pycharm": {
     "name": "#%%\n"
    }
   },
   "outputs": [
    {
     "data": {
      "text/plain": "array([556, 589, 527, 543, 570, 516, 541, 597, 510, 573, 512, 548, 586,\n       529, 594, 506, 567, 566, 536, 517, 550, 535, 508, 596, 528, 520,\n       582, 526, 563, 514, 525, 504, 518, 539, 509, 579, 507, 565, 537,\n       590, 557, 600, 555, 544, 551, 568, 547, 569, 562, 598, 580, 542,\n       559, 549, 599, 558, 576, 533, 595, 560, 564, 585, 538, 530, 502,\n       553, 522, 503, 524, 588, 592, 575, 587, 583, 521, 561, 572, 515,\n       593, 552])"
     },
     "execution_count": 107,
     "metadata": {},
     "output_type": "execute_result"
    }
   ],
   "source": [
    "b_train"
   ]
  },
  {
   "cell_type": "code",
   "execution_count": 108,
   "metadata": {
    "pycharm": {
     "name": "#%%\n"
    }
   },
   "outputs": [
    {
     "data": {
      "text/plain": "array([584, 554, 571, 546, 545, 540, 523, 581, 511, 501, 519, 531, 574,\n       534, 591, 505, 577, 578, 513, 532])"
     },
     "execution_count": 108,
     "metadata": {},
     "output_type": "execute_result"
    }
   ],
   "source": [
    "b_test"
   ]
  }
 ],
 "metadata": {
  "kernelspec": {
   "display_name": "Python 3",
   "language": "python",
   "name": "python3"
  },
  "language_info": {
   "codemirror_mode": {
    "name": "ipython",
    "version": 3
   },
   "file_extension": ".py",
   "mimetype": "text/x-python",
   "name": "python",
   "nbconvert_exporter": "python",
   "pygments_lexer": "ipython3",
   "version": "3.6.4"
  }
 },
 "nbformat": 4,
 "nbformat_minor": 2
}