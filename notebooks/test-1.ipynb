{
 "cells": [
  {
   "cell_type": "code",
   "execution_count": 6,
   "metadata": {
    "collapsed": true,
    "pycharm": {
     "name": "#%%\n"
    }
   },
   "outputs": [],
   "source": [
    "import tensorflow as tf\n",
    "import numpy as np\n",
    "import matplotlib.pyplot as plt\n",
    "import pandas as pd\n",
    "from sklearn import datasets\n",
    "import seaborn as sb\n",
    "\n",
    "# Load the data\n",
    "iris = datasets.load_iris()\n",
    "X = iris.data\n",
    "y = iris.target"
   ]
  },
  {
   "cell_type": "code",
   "execution_count": 7,
   "outputs": [],
   "source": [
    "# Split the data into training and test sets\n",
    "from sklearn.model_selection import train_test_split\n",
    "X_train, X_test, y_train, y_test = train_test_split(X, y, test_size=0.2, random_state=42)"
   ],
   "metadata": {
    "collapsed": false,
    "pycharm": {
     "name": "#%%\n"
    }
   }
  },
  {
   "cell_type": "code",
   "execution_count": 8,
   "outputs": [],
   "source": [
    "# Create the model\n",
    "model = tf.keras.models.Sequential()\n",
    "model.add(tf.keras.layers.Dense(10, activation='relu', input_shape=(4,)))\n",
    "model.add(tf.keras.layers.Dense(10, activation='relu'))\n",
    "model.add(tf.keras.layers.Dense(3, activation='softmax'))"
   ],
   "metadata": {
    "collapsed": false,
    "pycharm": {
     "name": "#%%\n"
    }
   }
  },
  {
   "cell_type": "code",
   "execution_count": 9,
   "outputs": [],
   "source": [
    "# Compile the model\n",
    "model.compile(optimizer='adam', loss='sparse_categorical_crossentropy', metrics=['accuracy'])"
   ],
   "metadata": {
    "collapsed": false,
    "pycharm": {
     "name": "#%%\n"
    }
   }
  },
  {
   "cell_type": "code",
   "execution_count": 11,
   "outputs": [
    {
     "name": "stdout",
     "output_type": "stream",
     "text": [
      "Epoch 1/10\n",
      "4/4 [==============================] - 0s 1ms/step - loss: 0.9431 - accuracy: 0.6250\n",
      "Epoch 2/10\n",
      "4/4 [==============================] - 0s 1ms/step - loss: 0.9268 - accuracy: 0.6083\n",
      "Epoch 3/10\n",
      "4/4 [==============================] - 0s 1ms/step - loss: 0.9086 - accuracy: 0.5750\n",
      "Epoch 4/10\n",
      "4/4 [==============================] - 0s 1ms/step - loss: 0.8895 - accuracy: 0.5833\n",
      "Epoch 5/10\n",
      "4/4 [==============================] - 0s 1ms/step - loss: 0.8719 - accuracy: 0.6000\n",
      "Epoch 6/10\n",
      "4/4 [==============================] - 0s 1000us/step - loss: 0.8560 - accuracy: 0.6000\n",
      "Epoch 7/10\n",
      "4/4 [==============================] - 0s 1ms/step - loss: 0.8414 - accuracy: 0.6250\n",
      "Epoch 8/10\n",
      "4/4 [==============================] - 0s 999us/step - loss: 0.8269 - accuracy: 0.6333\n",
      "Epoch 9/10\n",
      "4/4 [==============================] - 0s 1ms/step - loss: 0.8139 - accuracy: 0.6417\n",
      "Epoch 10/10\n",
      "4/4 [==============================] - 0s 1ms/step - loss: 0.8007 - accuracy: 0.6583\n"
     ]
    },
    {
     "data": {
      "text/plain": "<keras.callbacks.History at 0x1c4c2ee7a30>"
     },
     "execution_count": 11,
     "metadata": {},
     "output_type": "execute_result"
    }
   ],
   "source": [
    "# Train the model\n",
    "model.fit(X_train, y_train, epochs=10)"
   ],
   "metadata": {
    "collapsed": false,
    "pycharm": {
     "name": "#%%\n"
    }
   }
  },
  {
   "cell_type": "code",
   "execution_count": null,
   "outputs": [],
   "source": [],
   "metadata": {
    "collapsed": false,
    "pycharm": {
     "name": "#%%\n"
    }
   }
  }
 ],
 "metadata": {
  "kernelspec": {
   "display_name": "Python 3",
   "language": "python",
   "name": "python3"
  },
  "language_info": {
   "codemirror_mode": {
    "name": "ipython",
    "version": 2
   },
   "file_extension": ".py",
   "mimetype": "text/x-python",
   "name": "python",
   "nbconvert_exporter": "python",
   "pygments_lexer": "ipython2",
   "version": "2.7.6"
  }
 },
 "nbformat": 4,
 "nbformat_minor": 0
}