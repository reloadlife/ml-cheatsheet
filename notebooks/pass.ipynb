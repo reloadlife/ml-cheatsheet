{
 "cells": [
  {
   "cell_type": "code",
   "execution_count": 827,
   "outputs": [],
   "source": [
    "import random\n",
    "\n",
    "name = \"Spotify\"\n",
    "auth = \"me@mamad.dev\" # or username\n",
    "salt = \"this-is-my-secure-salt\""
   ],
   "metadata": {
    "collapsed": false,
    "pycharm": {
     "name": "#%%\n"
    }
   }
  },
  {
   "cell_type": "code",
   "execution_count": 828,
   "outputs": [],
   "source": [
    "def make_bits(inp: str) -> list:\n",
    "    mapped = map(ord, inp)\n",
    "    return [str(i) for i in mapped]\n"
   ],
   "metadata": {
    "collapsed": false,
    "pycharm": {
     "name": "#%%\n"
    }
   }
  },
  {
   "cell_type": "code",
   "execution_count": 829,
   "outputs": [],
   "source": [
    "ord_name = make_bits(name)\n",
    "ord_salt = make_bits(salt)\n",
    "ord_auth = make_bits(auth)"
   ],
   "metadata": {
    "collapsed": false,
    "pycharm": {
     "name": "#%%\n"
    }
   }
  },
  {
   "cell_type": "code",
   "execution_count": 830,
   "outputs": [
    {
     "data": {
      "text/plain": "['83', '112', '111', '116', '105', '102', '121']"
     },
     "execution_count": 830,
     "metadata": {},
     "output_type": "execute_result"
    }
   ],
   "source": [
    "ord_name"
   ],
   "metadata": {
    "collapsed": false,
    "pycharm": {
     "name": "#%%\n"
    }
   }
  },
  {
   "cell_type": "code",
   "execution_count": 831,
   "outputs": [
    {
     "data": {
      "text/plain": "['109',\n '101',\n '64',\n '109',\n '97',\n '109',\n '97',\n '100',\n '46',\n '100',\n '101',\n '118']"
     },
     "execution_count": 831,
     "metadata": {},
     "output_type": "execute_result"
    }
   ],
   "source": [
    "ord_auth"
   ],
   "metadata": {
    "collapsed": false,
    "pycharm": {
     "name": "#%%\n"
    }
   }
  },
  {
   "cell_type": "code",
   "execution_count": 832,
   "outputs": [
    {
     "data": {
      "text/plain": "['116',\n '104',\n '105',\n '115',\n '45',\n '105',\n '115',\n '45',\n '109',\n '121',\n '45',\n '115',\n '101',\n '99',\n '117',\n '114',\n '101',\n '45',\n '115',\n '97',\n '108',\n '116']"
     },
     "execution_count": 832,
     "metadata": {},
     "output_type": "execute_result"
    }
   ],
   "source": [
    "ord_salt"
   ],
   "metadata": {
    "collapsed": false,
    "pycharm": {
     "name": "#%%\n"
    }
   }
  },
  {
   "cell_type": "code",
   "execution_count": 833,
   "outputs": [],
   "source": [
    "def pad_bits(bits: list, length: int) -> list:\n",
    "    if len(bits) < length:\n",
    "        bits.extend(str(i) for i in range(length - len(bits)))\n",
    "    return bits\n"
   ],
   "metadata": {
    "collapsed": false,
    "pycharm": {
     "name": "#%%\n"
    }
   }
  },
  {
   "cell_type": "code",
   "execution_count": 834,
   "outputs": [],
   "source": [
    "ord_salt = pad_bits(ord_salt, 32)\n",
    "ord_name = pad_bits(ord_name, 32)\n",
    "ord_auth = pad_bits(ord_auth, 32)\n"
   ],
   "metadata": {
    "collapsed": false,
    "pycharm": {
     "name": "#%%\n"
    }
   }
  },
  {
   "cell_type": "code",
   "execution_count": 835,
   "outputs": [
    {
     "data": {
      "text/plain": "['83',\n '112',\n '111',\n '116',\n '105',\n '102',\n '121',\n '0',\n '1',\n '2',\n '3',\n '4',\n '5',\n '6',\n '7',\n '8',\n '9',\n '10',\n '11',\n '12',\n '13',\n '14',\n '15',\n '16',\n '17',\n '18',\n '19',\n '20',\n '21',\n '22',\n '23',\n '24']"
     },
     "execution_count": 835,
     "metadata": {},
     "output_type": "execute_result"
    }
   ],
   "source": [
    "ord_name"
   ],
   "metadata": {
    "collapsed": false,
    "pycharm": {
     "name": "#%%\n"
    }
   }
  },
  {
   "cell_type": "code",
   "execution_count": 836,
   "outputs": [],
   "source": [
    "password = [int(i) ^ int(j) for i, j in zip(ord_salt, ord_name)]\n",
    "password = [int(i) ^ int(j) for i, j in zip(password, ord_auth)]"
   ],
   "metadata": {
    "collapsed": false,
    "pycharm": {
     "name": "#%%\n"
    }
   }
  },
  {
   "cell_type": "code",
   "execution_count": 837,
   "outputs": [
    {
     "data": {
      "text/plain": "[74,\n 125,\n 70,\n 106,\n 37,\n 98,\n 107,\n 73,\n 66,\n 31,\n 75,\n 1,\n 96,\n 100,\n 112,\n 121,\n 104,\n 34,\n 126,\n 106,\n 105,\n 115,\n 5,\n 26,\n 31,\n 28,\n 25,\n 30,\n 3,\n 0,\n 13,\n 2]"
     },
     "execution_count": 837,
     "metadata": {},
     "output_type": "execute_result"
    }
   ],
   "source": [
    "password"
   ],
   "metadata": {
    "collapsed": false,
    "pycharm": {
     "name": "#%%\n"
    }
   }
  },
  {
   "cell_type": "code",
   "execution_count": 838,
   "outputs": [],
   "source": [
    "password = [chr(i) for i in password]"
   ],
   "metadata": {
    "collapsed": false,
    "pycharm": {
     "name": "#%%\n"
    }
   }
  },
  {
   "cell_type": "code",
   "execution_count": 839,
   "outputs": [],
   "source": [
    "password = \"\".join(password)"
   ],
   "metadata": {
    "collapsed": false,
    "pycharm": {
     "name": "#%%\n"
    }
   }
  },
  {
   "cell_type": "code",
   "execution_count": 846,
   "outputs": [],
   "source": [
    "import hashlib\n",
    "\n",
    "sha1 = hashlib.sha1()\n",
    "sha1.update(password.encode())\n",
    "gen_pass = sha1.hexdigest().upper()"
   ],
   "metadata": {
    "collapsed": false,
    "pycharm": {
     "name": "#%%\n"
    }
   }
  },
  {
   "cell_type": "code",
   "execution_count": 847,
   "outputs": [],
   "source": [
    "def passify(p: str) -> str:\n",
    "    return p \\\n",
    "        .replace(\"10\", \"!!$\") \\\n",
    "        .replace(\"1\", \"#\") \\\n",
    "        .replace(\"0\", \"=!=\") \\\n",
    "        .replace(\"3\", \"@\") \\\n",
    "        .replace(\"42\", \"-!%\") \\\n",
    "        .replace(\"2\", \"<\") \\\n",
    "        .replace(\"4\", \">\") \\\n",
    "        .replace(\"5\", \"?\") \\\n",
    "        .replace(\"6\", \"~\") \\\n",
    "        .replace(\"7\", \"*\") \\\n",
    "        .replace(\"8\", \"&\") \\\n",
    "        .replace(\"9\", \"^\")\n",
    "\n"
   ],
   "metadata": {
    "collapsed": false,
    "pycharm": {
     "name": "#%%\n"
    }
   }
  },
  {
   "cell_type": "code",
   "execution_count": 852,
   "outputs": [
    {
     "data": {
      "text/plain": "'C@>~?=!=^**<A@DCEC&=!=B?>?A&~~=!=D*F^CFB<C<FA*'"
     },
     "execution_count": 852,
     "metadata": {},
     "output_type": "execute_result"
    }
   ],
   "source": [
    "passify(gen_pass)"
   ],
   "metadata": {
    "collapsed": false,
    "pycharm": {
     "name": "#%%\n"
    }
   }
  },
  {
   "cell_type": "code",
   "execution_count": null,
   "outputs": [],
   "source": [],
   "metadata": {
    "collapsed": false,
    "pycharm": {
     "name": "#%%\n"
    }
   }
  }
 ],
 "metadata": {
  "kernelspec": {
   "display_name": "Python 3",
   "language": "python",
   "name": "python3"
  },
  "language_info": {
   "codemirror_mode": {
    "name": "ipython",
    "version": 2
   },
   "file_extension": ".py",
   "mimetype": "text/x-python",
   "name": "python",
   "nbconvert_exporter": "python",
   "pygments_lexer": "ipython2",
   "version": "2.7.6"
  }
 },
 "nbformat": 4,
 "nbformat_minor": 0
}