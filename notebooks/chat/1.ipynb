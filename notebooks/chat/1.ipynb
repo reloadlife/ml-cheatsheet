{
 "cells": [
  {
   "cell_type": "code",
   "execution_count": 1,
   "outputs": [],
   "source": [
    "#importing the libraries\n",
    "import tensorflow as tf\n",
    "import numpy as np\n",
    "import pandas as pd\n",
    "import json\n",
    "import nltk\n",
    "from tensorflow.keras.preprocessing.text import Tokenizer\n",
    "from tensorflow.keras.layers import Input, Embedding, LSTM , Dense,GlobalMaxPooling1D,Flatten\n",
    "from tensorflow.keras.models import Model\n",
    "import matplotlib.pyplot as plt"
   ],
   "metadata": {
    "collapsed": false,
    "pycharm": {
     "name": "#%%\n"
    }
   }
  },
  {
   "cell_type": "markdown",
   "source": [
    "Lets open up the data.\n"
   ],
   "metadata": {
    "collapsed": false,
    "pycharm": {
     "name": "#%% md\n"
    }
   }
  },
  {
   "cell_type": "code",
   "execution_count": 6,
   "outputs": [],
   "source": [
    "#importing the dataset\n",
    "with open('../../data/chat/test.json') as content:\n",
    "    data1 = json.load(content)"
   ],
   "metadata": {
    "collapsed": false,
    "pycharm": {
     "name": "#%%\n"
    }
   }
  },
  {
   "cell_type": "code",
   "execution_count": 7,
   "outputs": [
    {
     "data": {
      "text/plain": "{'intents': [{'tag': 'greeting',\n   'input': ['hello',\n    'hi there',\n    'nice to meet you',\n    \"hi, is this is the pirate's organization\",\n    'any pirates here ?',\n    'hi',\n    'hey there',\n    'hey',\n    'hi there',\n    'hi, nice to meet you',\n    'hello there',\n    'anyone there ?',\n    'hello pirates',\n    'knock knock'],\n   'responses': [\"Hi. Welcome to the world's largest pirate organization - The Strawhats\",\n    'Hey yo, do you need help ?',\n    'welcome aboard, how may I help you ?',\n    'ahoy!!',\n    \"Hi random person, what do'ya want ?\",\n    'Hello my friend, How can I help you ?',\n    'Ha , Glad you showed up. How are you ?']},\n  {'tag': 'goodbye',\n   'input': ['Thank you',\n    'Thanks',\n    'Thanks for the info',\n    'bye',\n    'byr bro',\n    'adios',\n    'okay bye',\n    'goodbye',\n    'see you later',\n    'i will catch you later',\n    'i will catch up later',\n    'okay i will see you later',\n    'I will talk to you later',\n    'will text you later',\n    \"bye bro, I'll talk to you later\",\n    'Bye brother'],\n   'responses': ['Okay, Bye',\n    'Have a nice day',\n    'Adios',\n    'Goodbye',\n    'see you later',\n    'nice conversation. bye',\n    'okay. Have a nice day',\n    'Take care',\n    \"we'll meet soon\",\n    'Yeah Sure, Will talk to you later',\n    'Okay , Take care']},\n  {'tag': 'howami',\n   'input': ['how are you ?',\n    'I am fine , how are you ?',\n    'are you fine ?',\n    'how are things going on ?',\n    'everything going on okay ?',\n    \"how's everything there ?\",\n    \"how's everything going on ?\",\n    'is everything okay ?'],\n   'responses': ['Yeah , am fine',\n    \"Everything's going on well\",\n    'Doing good.Thanks you are my best friend',\n    'Things are Great',\n    'Yeah Fine, nothing much going on in my life',\n    \"I am Great , wanna join the pirate's organization ?\",\n    \"Everything's great.\",\n    'I am doing good. Life is boring. need to go on an adventure']},\n  {'tag': 'whoareyou',\n   'input': ['who are you ?',\n    'what are you ?',\n    'what is your name ?',\n    'are you a chatbot ?',\n    'what can I call you ?',\n    'your name ?',\n    'are you a bot ?',\n    'how do I address you ?',\n    'How do I call you'],\n   'responses': ['I am a The Great Pirate Bot , you can call me Going Merry',\n    'I am Going Merry and you could ask me questions about our organization',\n    'Going Merry at your service',\n    'My name is Going Merry and yes, I am the G.O.A.T',\n    'You can call me TechBot and I am here to Help you',\n    'My name is Going Merry and I am here to answer your questions regarding our organization. go ahead and shoot']},\n  {'tag': 'whereareyou',\n   'input': ['where are you from ?',\n    'which country are you from ?',\n    'where do you live ?',\n    'where are you ?',\n    'where do you live in ?',\n    'which place do you live in ?',\n    'where are you currently at',\n    'where do you live currently ?',\n    'you are from where',\n    'you are from ?'],\n   'responses': ['I Live in the East Blue',\n    'I am setting sail to the grand line',\n    \"I live in East Blue. Pretty sure you wouldn't have heard about that\",\n    \"East Blue. That's where I live\"]},\n  {'tag': 'join',\n   'input': ['how to get recruited ?',\n    'how to join ?',\n    'how do i get recruited ?',\n    'How to join the strawhats ?',\n    'how do I join the straw hats ?',\n    'how to join the straw hat pirates ?',\n    'how to enroll',\n    'how to join the organization',\n    'steps to join the organization',\n    'steps to join the pirates'],\n   'responses': ['you need to contact the nearest straw hats center once you have completed the pre-requisites',\n    'contact the closest straw hat center from your location',\n    'well. there are some pre-requisite and after you complete them, find the straw hat centers']},\n  {'tag': 'whereisthecenter',\n   'input': ['where is the straw hat center located ?',\n    'location of the straw hat center ?',\n    \"strawhat center's location ?\",\n    'where can I find the strawhat center ?',\n    'where can I find the strawhat center ?'],\n   'responses': [\"That's up to you. use your skills\",\n    \"They are present all over the city you live in. Find them on your own. I can't give any more information\",\n    'there are a lot of straw hat centers in the city you are in. find them.']},\n  {'tag': 'prerequisites',\n   'input': ['what are the job requirements ?',\n    'what are the pre requisites ?',\n    'what are the pre-requisites ?',\n    'tell me about the pre-requisites',\n    'tell me more about the pre requisites',\n    'give more details about the pre-requisites',\n    'What are the requirements',\n    \" what's the basic requirements\",\n    'what are the basic skills to get recruited ?'],\n   'responses': ['you gotta master the art of swordfight or master Cooking and become a furious cook or you have to be the best navigator in the entire world or you need to be as strong and intelligent as god usop',\n    'swordsman, a medical reindeer, taekwando Cook, master navigator, simple minded monkey, highly intelligent strategist, god usop. you gotta be one of these things to pass the requirement and join the pirates']}]}"
     },
     "execution_count": 7,
     "metadata": {},
     "output_type": "execute_result"
    }
   ],
   "source": [
    "data1"
   ],
   "metadata": {
    "collapsed": false,
    "pycharm": {
     "name": "#%%\n"
    }
   }
  },
  {
   "cell_type": "code",
   "execution_count": 8,
   "outputs": [],
   "source": [
    "#getting all the data to lists\n",
    "tags = []\n",
    "inputs = []\n",
    "responses={}\n",
    "for intent in data1['intents']:\n",
    "    responses[intent['tag']]=intent['responses']\n",
    "    for lines in intent['input']:\n",
    "        inputs.append(lines)\n",
    "        tags.append(intent['tag'])"
   ],
   "metadata": {
    "collapsed": false,
    "pycharm": {
     "name": "#%%\n"
    }
   }
  },
  {
   "cell_type": "code",
   "execution_count": 9,
   "outputs": [
    {
     "data": {
      "text/plain": "['greeting',\n 'greeting',\n 'greeting',\n 'greeting',\n 'greeting',\n 'greeting',\n 'greeting',\n 'greeting',\n 'greeting',\n 'greeting',\n 'greeting',\n 'greeting',\n 'greeting',\n 'greeting',\n 'goodbye',\n 'goodbye',\n 'goodbye',\n 'goodbye',\n 'goodbye',\n 'goodbye',\n 'goodbye',\n 'goodbye',\n 'goodbye',\n 'goodbye',\n 'goodbye',\n 'goodbye',\n 'goodbye',\n 'goodbye',\n 'goodbye',\n 'goodbye',\n 'howami',\n 'howami',\n 'howami',\n 'howami',\n 'howami',\n 'howami',\n 'howami',\n 'howami',\n 'whoareyou',\n 'whoareyou',\n 'whoareyou',\n 'whoareyou',\n 'whoareyou',\n 'whoareyou',\n 'whoareyou',\n 'whoareyou',\n 'whoareyou',\n 'whereareyou',\n 'whereareyou',\n 'whereareyou',\n 'whereareyou',\n 'whereareyou',\n 'whereareyou',\n 'whereareyou',\n 'whereareyou',\n 'whereareyou',\n 'whereareyou',\n 'join',\n 'join',\n 'join',\n 'join',\n 'join',\n 'join',\n 'join',\n 'join',\n 'join',\n 'join',\n 'whereisthecenter',\n 'whereisthecenter',\n 'whereisthecenter',\n 'whereisthecenter',\n 'whereisthecenter',\n 'prerequisites',\n 'prerequisites',\n 'prerequisites',\n 'prerequisites',\n 'prerequisites',\n 'prerequisites',\n 'prerequisites',\n 'prerequisites',\n 'prerequisites']"
     },
     "execution_count": 9,
     "metadata": {},
     "output_type": "execute_result"
    }
   ],
   "source": [
    "tags"
   ],
   "metadata": {
    "collapsed": false,
    "pycharm": {
     "name": "#%%\n"
    }
   }
  },
  {
   "cell_type": "code",
   "execution_count": 10,
   "outputs": [
    {
     "data": {
      "text/plain": "['hello',\n 'hi there',\n 'nice to meet you',\n \"hi, is this is the pirate's organization\",\n 'any pirates here ?',\n 'hi',\n 'hey there',\n 'hey',\n 'hi there',\n 'hi, nice to meet you',\n 'hello there',\n 'anyone there ?',\n 'hello pirates',\n 'knock knock',\n 'Thank you',\n 'Thanks',\n 'Thanks for the info',\n 'bye',\n 'byr bro',\n 'adios',\n 'okay bye',\n 'goodbye',\n 'see you later',\n 'i will catch you later',\n 'i will catch up later',\n 'okay i will see you later',\n 'I will talk to you later',\n 'will text you later',\n \"bye bro, I'll talk to you later\",\n 'Bye brother',\n 'how are you ?',\n 'I am fine , how are you ?',\n 'are you fine ?',\n 'how are things going on ?',\n 'everything going on okay ?',\n \"how's everything there ?\",\n \"how's everything going on ?\",\n 'is everything okay ?',\n 'who are you ?',\n 'what are you ?',\n 'what is your name ?',\n 'are you a chatbot ?',\n 'what can I call you ?',\n 'your name ?',\n 'are you a bot ?',\n 'how do I address you ?',\n 'How do I call you',\n 'where are you from ?',\n 'which country are you from ?',\n 'where do you live ?',\n 'where are you ?',\n 'where do you live in ?',\n 'which place do you live in ?',\n 'where are you currently at',\n 'where do you live currently ?',\n 'you are from where',\n 'you are from ?',\n 'how to get recruited ?',\n 'how to join ?',\n 'how do i get recruited ?',\n 'How to join the strawhats ?',\n 'how do I join the straw hats ?',\n 'how to join the straw hat pirates ?',\n 'how to enroll',\n 'how to join the organization',\n 'steps to join the organization',\n 'steps to join the pirates',\n 'where is the straw hat center located ?',\n 'location of the straw hat center ?',\n \"strawhat center's location ?\",\n 'where can I find the strawhat center ?',\n 'where can I find the strawhat center ?',\n 'what are the job requirements ?',\n 'what are the pre requisites ?',\n 'what are the pre-requisites ?',\n 'tell me about the pre-requisites',\n 'tell me more about the pre requisites',\n 'give more details about the pre-requisites',\n 'What are the requirements',\n \" what's the basic requirements\",\n 'what are the basic skills to get recruited ?']"
     },
     "execution_count": 10,
     "metadata": {},
     "output_type": "execute_result"
    }
   ],
   "source": [
    "inputs"
   ],
   "metadata": {
    "collapsed": false,
    "pycharm": {
     "name": "#%%\n"
    }
   }
  },
  {
   "cell_type": "code",
   "execution_count": 11,
   "outputs": [
    {
     "data": {
      "text/plain": "{'greeting': [\"Hi. Welcome to the world's largest pirate organization - The Strawhats\",\n  'Hey yo, do you need help ?',\n  'welcome aboard, how may I help you ?',\n  'ahoy!!',\n  \"Hi random person, what do'ya want ?\",\n  'Hello my friend, How can I help you ?',\n  'Ha , Glad you showed up. How are you ?'],\n 'goodbye': ['Okay, Bye',\n  'Have a nice day',\n  'Adios',\n  'Goodbye',\n  'see you later',\n  'nice conversation. bye',\n  'okay. Have a nice day',\n  'Take care',\n  \"we'll meet soon\",\n  'Yeah Sure, Will talk to you later',\n  'Okay , Take care'],\n 'howami': ['Yeah , am fine',\n  \"Everything's going on well\",\n  'Doing good.Thanks you are my best friend',\n  'Things are Great',\n  'Yeah Fine, nothing much going on in my life',\n  \"I am Great , wanna join the pirate's organization ?\",\n  \"Everything's great.\",\n  'I am doing good. Life is boring. need to go on an adventure'],\n 'whoareyou': ['I am a The Great Pirate Bot , you can call me Going Merry',\n  'I am Going Merry and you could ask me questions about our organization',\n  'Going Merry at your service',\n  'My name is Going Merry and yes, I am the G.O.A.T',\n  'You can call me TechBot and I am here to Help you',\n  'My name is Going Merry and I am here to answer your questions regarding our organization. go ahead and shoot'],\n 'whereareyou': ['I Live in the East Blue',\n  'I am setting sail to the grand line',\n  \"I live in East Blue. Pretty sure you wouldn't have heard about that\",\n  \"East Blue. That's where I live\"],\n 'join': ['you need to contact the nearest straw hats center once you have completed the pre-requisites',\n  'contact the closest straw hat center from your location',\n  'well. there are some pre-requisite and after you complete them, find the straw hat centers'],\n 'whereisthecenter': [\"That's up to you. use your skills\",\n  \"They are present all over the city you live in. Find them on your own. I can't give any more information\",\n  'there are a lot of straw hat centers in the city you are in. find them.'],\n 'prerequisites': ['you gotta master the art of swordfight or master Cooking and become a furious cook or you have to be the best navigator in the entire world or you need to be as strong and intelligent as god usop',\n  'swordsman, a medical reindeer, taekwando Cook, master navigator, simple minded monkey, highly intelligent strategist, god usop. you gotta be one of these things to pass the requirement and join the pirates']}"
     },
     "execution_count": 11,
     "metadata": {},
     "output_type": "execute_result"
    }
   ],
   "source": [
    "responses"
   ],
   "metadata": {
    "collapsed": false,
    "pycharm": {
     "name": "#%%\n"
    }
   }
  },
  {
   "cell_type": "code",
   "execution_count": 12,
   "outputs": [],
   "source": [
    "#converting to dataframe\n",
    "data = pd.DataFrame({\"inputs\":inputs, \"tags\":tags})"
   ],
   "metadata": {
    "collapsed": false,
    "pycharm": {
     "name": "#%%\n"
    }
   }
  },
  {
   "cell_type": "code",
   "execution_count": 13,
   "outputs": [
    {
     "data": {
      "text/plain": "                                          inputs           tags\n0                                          hello       greeting\n1                                       hi there       greeting\n2                               nice to meet you       greeting\n3       hi, is this is the pirate's organization       greeting\n4                             any pirates here ?       greeting\n..                                           ...            ...\n76         tell me more about the pre requisites  prerequisites\n77    give more details about the pre-requisites  prerequisites\n78                     What are the requirements  prerequisites\n79                 what's the basic requirements  prerequisites\n80  what are the basic skills to get recruited ?  prerequisites\n\n[81 rows x 2 columns]",
      "text/html": "<div>\n<style scoped>\n    .dataframe tbody tr th:only-of-type {\n        vertical-align: middle;\n    }\n\n    .dataframe tbody tr th {\n        vertical-align: top;\n    }\n\n    .dataframe thead th {\n        text-align: right;\n    }\n</style>\n<table border=\"1\" class=\"dataframe\">\n  <thead>\n    <tr style=\"text-align: right;\">\n      <th></th>\n      <th>inputs</th>\n      <th>tags</th>\n    </tr>\n  </thead>\n  <tbody>\n    <tr>\n      <th>0</th>\n      <td>hello</td>\n      <td>greeting</td>\n    </tr>\n    <tr>\n      <th>1</th>\n      <td>hi there</td>\n      <td>greeting</td>\n    </tr>\n    <tr>\n      <th>2</th>\n      <td>nice to meet you</td>\n      <td>greeting</td>\n    </tr>\n    <tr>\n      <th>3</th>\n      <td>hi, is this is the pirate's organization</td>\n      <td>greeting</td>\n    </tr>\n    <tr>\n      <th>4</th>\n      <td>any pirates here ?</td>\n      <td>greeting</td>\n    </tr>\n    <tr>\n      <th>...</th>\n      <td>...</td>\n      <td>...</td>\n    </tr>\n    <tr>\n      <th>76</th>\n      <td>tell me more about the pre requisites</td>\n      <td>prerequisites</td>\n    </tr>\n    <tr>\n      <th>77</th>\n      <td>give more details about the pre-requisites</td>\n      <td>prerequisites</td>\n    </tr>\n    <tr>\n      <th>78</th>\n      <td>What are the requirements</td>\n      <td>prerequisites</td>\n    </tr>\n    <tr>\n      <th>79</th>\n      <td>what's the basic requirements</td>\n      <td>prerequisites</td>\n    </tr>\n    <tr>\n      <th>80</th>\n      <td>what are the basic skills to get recruited ?</td>\n      <td>prerequisites</td>\n    </tr>\n  </tbody>\n</table>\n<p>81 rows × 2 columns</p>\n</div>"
     },
     "execution_count": 13,
     "metadata": {},
     "output_type": "execute_result"
    }
   ],
   "source": [
    "data"
   ],
   "metadata": {
    "collapsed": false,
    "pycharm": {
     "name": "#%%\n"
    }
   }
  },
  {
   "cell_type": "code",
   "execution_count": 15,
   "outputs": [],
   "source": [
    "data = data.sample(frac=1)"
   ],
   "metadata": {
    "collapsed": false,
    "pycharm": {
     "name": "#%%\n"
    }
   }
  },
  {
   "cell_type": "code",
   "execution_count": 16,
   "outputs": [
    {
     "data": {
      "text/plain": "                          inputs              tags\n1                       hi there          greeting\n51        where do you live in ?       whereareyou\n29                   Bye brother           goodbye\n69  strawhat center's location ?  whereisthecenter\n16           Thanks for the info           goodbye\n..                           ...               ...\n78     What are the requirements     prerequisites\n66     steps to join the pirates              join\n32                are you fine ?            howami\n27           will text you later           goodbye\n17                           bye           goodbye\n\n[81 rows x 2 columns]",
      "text/html": "<div>\n<style scoped>\n    .dataframe tbody tr th:only-of-type {\n        vertical-align: middle;\n    }\n\n    .dataframe tbody tr th {\n        vertical-align: top;\n    }\n\n    .dataframe thead th {\n        text-align: right;\n    }\n</style>\n<table border=\"1\" class=\"dataframe\">\n  <thead>\n    <tr style=\"text-align: right;\">\n      <th></th>\n      <th>inputs</th>\n      <th>tags</th>\n    </tr>\n  </thead>\n  <tbody>\n    <tr>\n      <th>1</th>\n      <td>hi there</td>\n      <td>greeting</td>\n    </tr>\n    <tr>\n      <th>51</th>\n      <td>where do you live in ?</td>\n      <td>whereareyou</td>\n    </tr>\n    <tr>\n      <th>29</th>\n      <td>Bye brother</td>\n      <td>goodbye</td>\n    </tr>\n    <tr>\n      <th>69</th>\n      <td>strawhat center's location ?</td>\n      <td>whereisthecenter</td>\n    </tr>\n    <tr>\n      <th>16</th>\n      <td>Thanks for the info</td>\n      <td>goodbye</td>\n    </tr>\n    <tr>\n      <th>...</th>\n      <td>...</td>\n      <td>...</td>\n    </tr>\n    <tr>\n      <th>78</th>\n      <td>What are the requirements</td>\n      <td>prerequisites</td>\n    </tr>\n    <tr>\n      <th>66</th>\n      <td>steps to join the pirates</td>\n      <td>join</td>\n    </tr>\n    <tr>\n      <th>32</th>\n      <td>are you fine ?</td>\n      <td>howami</td>\n    </tr>\n    <tr>\n      <th>27</th>\n      <td>will text you later</td>\n      <td>goodbye</td>\n    </tr>\n    <tr>\n      <th>17</th>\n      <td>bye</td>\n      <td>goodbye</td>\n    </tr>\n  </tbody>\n</table>\n<p>81 rows × 2 columns</p>\n</div>"
     },
     "execution_count": 16,
     "metadata": {},
     "output_type": "execute_result"
    }
   ],
   "source": [
    "data"
   ],
   "metadata": {
    "collapsed": false,
    "pycharm": {
     "name": "#%%\n"
    }
   }
  },
  {
   "cell_type": "code",
   "execution_count": 18,
   "outputs": [],
   "source": [
    "import string\n",
    "data['inputs'] = data['inputs'].apply(lambda wrd:[ltrs.lower() for ltrs in wrd if ltrs not in string.punctuation])\n",
    "data['inputs'] = data['inputs'].apply(lambda wrd: ''.join(wrd))\n"
   ],
   "metadata": {
    "collapsed": false,
    "pycharm": {
     "name": "#%%\n"
    }
   }
  },
  {
   "cell_type": "code",
   "execution_count": 19,
   "outputs": [
    {
     "data": {
      "text/plain": "                        inputs              tags\n1                     hi there          greeting\n51       where do you live in        whereareyou\n29                 bye brother           goodbye\n69  strawhat centers location   whereisthecenter\n16         thanks for the info           goodbye\n..                         ...               ...\n78   what are the requirements     prerequisites\n66   steps to join the pirates              join\n32               are you fine             howami\n27         will text you later           goodbye\n17                         bye           goodbye\n\n[81 rows x 2 columns]",
      "text/html": "<div>\n<style scoped>\n    .dataframe tbody tr th:only-of-type {\n        vertical-align: middle;\n    }\n\n    .dataframe tbody tr th {\n        vertical-align: top;\n    }\n\n    .dataframe thead th {\n        text-align: right;\n    }\n</style>\n<table border=\"1\" class=\"dataframe\">\n  <thead>\n    <tr style=\"text-align: right;\">\n      <th></th>\n      <th>inputs</th>\n      <th>tags</th>\n    </tr>\n  </thead>\n  <tbody>\n    <tr>\n      <th>1</th>\n      <td>hi there</td>\n      <td>greeting</td>\n    </tr>\n    <tr>\n      <th>51</th>\n      <td>where do you live in</td>\n      <td>whereareyou</td>\n    </tr>\n    <tr>\n      <th>29</th>\n      <td>bye brother</td>\n      <td>goodbye</td>\n    </tr>\n    <tr>\n      <th>69</th>\n      <td>strawhat centers location</td>\n      <td>whereisthecenter</td>\n    </tr>\n    <tr>\n      <th>16</th>\n      <td>thanks for the info</td>\n      <td>goodbye</td>\n    </tr>\n    <tr>\n      <th>...</th>\n      <td>...</td>\n      <td>...</td>\n    </tr>\n    <tr>\n      <th>78</th>\n      <td>what are the requirements</td>\n      <td>prerequisites</td>\n    </tr>\n    <tr>\n      <th>66</th>\n      <td>steps to join the pirates</td>\n      <td>join</td>\n    </tr>\n    <tr>\n      <th>32</th>\n      <td>are you fine</td>\n      <td>howami</td>\n    </tr>\n    <tr>\n      <th>27</th>\n      <td>will text you later</td>\n      <td>goodbye</td>\n    </tr>\n    <tr>\n      <th>17</th>\n      <td>bye</td>\n      <td>goodbye</td>\n    </tr>\n  </tbody>\n</table>\n<p>81 rows × 2 columns</p>\n</div>"
     },
     "execution_count": 19,
     "metadata": {},
     "output_type": "execute_result"
    }
   ],
   "source": [
    "data"
   ],
   "metadata": {
    "collapsed": false,
    "pycharm": {
     "name": "#%%\n"
    }
   }
  },
  {
   "cell_type": "code",
   "execution_count": 22,
   "outputs": [],
   "source": [
    "from tensorflow.keras.preprocessing.text import Tokenizer\n",
    "tokenizer = Tokenizer(num_words=10000)\n",
    "tokenizer.fit_on_texts(data['inputs'])\n",
    "train = tokenizer.texts_to_sequences(data['inputs'])\n",
    "#apply padding\n",
    "from tensorflow.keras.preprocessing.sequence import pad_sequences\n",
    "x_train = pad_sequences(train)\n",
    "\n",
    "#encoding the outputs\n",
    "from sklearn.preprocessing import LabelEncoder\n",
    "le = LabelEncoder()\n",
    "y_train = le.fit_transform(data['tags'])"
   ],
   "metadata": {
    "collapsed": false,
    "pycharm": {
     "name": "#%%\n"
    }
   }
  },
  {
   "cell_type": "code",
   "execution_count": 23,
   "outputs": [
    {
     "name": "stdout",
     "output_type": "stream",
     "text": [
      "8\n"
     ]
    }
   ],
   "source": [
    "input_shape = x_train.shape[1]\n",
    "print(input_shape)"
   ],
   "metadata": {
    "collapsed": false,
    "pycharm": {
     "name": "#%%\n"
    }
   }
  },
  {
   "cell_type": "code",
   "execution_count": 24,
   "outputs": [
    {
     "name": "stdout",
     "output_type": "stream",
     "text": [
      "number of unique words :  96\n",
      "output length:  8\n"
     ]
    }
   ],
   "source": [
    "vocabulary = len(tokenizer.word_index)\n",
    "print(\"number of unique words : \",vocabulary)\n",
    "output_length = le.classes_.shape[0]\n",
    "print(\"output length: \",output_length)"
   ],
   "metadata": {
    "collapsed": false,
    "pycharm": {
     "name": "#%%\n"
    }
   }
  },
  {
   "cell_type": "code",
   "execution_count": 25,
   "outputs": [],
   "source": [
    "\n",
    "i = Input(shape=(input_shape,))\n",
    "x = Embedding(vocabulary+1,10)(i)\n",
    "x = LSTM(10,return_sequences=True)(x)\n",
    "x = Flatten()(x)\n",
    "x = Dense(output_length,activation=\"softmax\")(x)\n",
    "model  = Model(i,x)"
   ],
   "metadata": {
    "collapsed": false,
    "pycharm": {
     "name": "#%%\n"
    }
   }
  },
  {
   "cell_type": "code",
   "execution_count": 26,
   "outputs": [
    {
     "name": "stdout",
     "output_type": "stream",
     "text": [
      "Model: \"model\"\n",
      "_________________________________________________________________\n",
      " Layer (type)                Output Shape              Param #   \n",
      "=================================================================\n",
      " input_1 (InputLayer)        [(None, 8)]               0         \n",
      "                                                                 \n",
      " embedding (Embedding)       (None, 8, 10)             970       \n",
      "                                                                 \n",
      " lstm (LSTM)                 (None, 8, 10)             840       \n",
      "                                                                 \n",
      " flatten (Flatten)           (None, 80)                0         \n",
      "                                                                 \n",
      " dense (Dense)               (None, 8)                 648       \n",
      "                                                                 \n",
      "=================================================================\n",
      "Total params: 2,458\n",
      "Trainable params: 2,458\n",
      "Non-trainable params: 0\n",
      "_________________________________________________________________\n"
     ]
    }
   ],
   "source": [
    "model.summary()"
   ],
   "metadata": {
    "collapsed": false,
    "pycharm": {
     "name": "#%%\n"
    }
   }
  },
  {
   "cell_type": "code",
   "execution_count": 27,
   "outputs": [],
   "source": [
    "model.compile(loss=\"sparse_categorical_crossentropy\",optimizer='adam',metrics=['accuracy'])"
   ],
   "metadata": {
    "collapsed": false,
    "pycharm": {
     "name": "#%%\n"
    }
   }
  },
  {
   "cell_type": "code",
   "execution_count": 28,
   "outputs": [
    {
     "name": "stdout",
     "output_type": "stream",
     "text": [
      "Epoch 1/200\n",
      "3/3 [==============================] - 2s 5ms/step - loss: 2.0788 - accuracy: 0.1111\n",
      "Epoch 2/200\n",
      "3/3 [==============================] - 0s 4ms/step - loss: 2.0749 - accuracy: 0.2346\n",
      "Epoch 3/200\n",
      "3/3 [==============================] - 0s 4ms/step - loss: 2.0715 - accuracy: 0.3086\n",
      "Epoch 4/200\n",
      "3/3 [==============================] - 0s 4ms/step - loss: 2.0676 - accuracy: 0.2593\n",
      "Epoch 5/200\n",
      "3/3 [==============================] - 0s 3ms/step - loss: 2.0635 - accuracy: 0.2099\n",
      "Epoch 6/200\n",
      "3/3 [==============================] - 0s 4ms/step - loss: 2.0595 - accuracy: 0.2099\n",
      "Epoch 7/200\n",
      "3/3 [==============================] - 0s 4ms/step - loss: 2.0550 - accuracy: 0.2099\n",
      "Epoch 8/200\n",
      "3/3 [==============================] - 0s 4ms/step - loss: 2.0494 - accuracy: 0.1975\n",
      "Epoch 9/200\n",
      "3/3 [==============================] - 0s 4ms/step - loss: 2.0444 - accuracy: 0.2099\n",
      "Epoch 10/200\n",
      "3/3 [==============================] - 0s 4ms/step - loss: 2.0383 - accuracy: 0.2099\n",
      "Epoch 11/200\n",
      "3/3 [==============================] - 0s 4ms/step - loss: 2.0322 - accuracy: 0.2099\n",
      "Epoch 12/200\n",
      "3/3 [==============================] - 0s 4ms/step - loss: 2.0247 - accuracy: 0.2099\n",
      "Epoch 13/200\n",
      "3/3 [==============================] - 0s 3ms/step - loss: 2.0164 - accuracy: 0.2099\n",
      "Epoch 14/200\n",
      "3/3 [==============================] - 0s 4ms/step - loss: 2.0081 - accuracy: 0.2099\n",
      "Epoch 15/200\n",
      "3/3 [==============================] - 0s 0s/step - loss: 1.9994 - accuracy: 0.2099\n",
      "Epoch 16/200\n",
      "3/3 [==============================] - 0s 3ms/step - loss: 1.9898 - accuracy: 0.2099\n",
      "Epoch 17/200\n",
      "3/3 [==============================] - 0s 5ms/step - loss: 1.9790 - accuracy: 0.2099\n",
      "Epoch 18/200\n",
      "3/3 [==============================] - 0s 3ms/step - loss: 1.9664 - accuracy: 0.2099\n",
      "Epoch 19/200\n",
      "3/3 [==============================] - 0s 3ms/step - loss: 1.9558 - accuracy: 0.2099\n",
      "Epoch 20/200\n",
      "3/3 [==============================] - 0s 3ms/step - loss: 1.9415 - accuracy: 0.2099\n",
      "Epoch 21/200\n",
      "3/3 [==============================] - 0s 4ms/step - loss: 1.9290 - accuracy: 0.2099\n",
      "Epoch 22/200\n",
      "3/3 [==============================] - 0s 3ms/step - loss: 1.9166 - accuracy: 0.2099\n",
      "Epoch 23/200\n",
      "3/3 [==============================] - 0s 4ms/step - loss: 1.9028 - accuracy: 0.2099\n",
      "Epoch 24/200\n",
      "3/3 [==============================] - 0s 4ms/step - loss: 1.8903 - accuracy: 0.2222\n",
      "Epoch 25/200\n",
      "3/3 [==============================] - 0s 4ms/step - loss: 1.8773 - accuracy: 0.2222\n",
      "Epoch 26/200\n",
      "3/3 [==============================] - 0s 4ms/step - loss: 1.8631 - accuracy: 0.2222\n",
      "Epoch 27/200\n",
      "3/3 [==============================] - 0s 4ms/step - loss: 1.8481 - accuracy: 0.2222\n",
      "Epoch 28/200\n",
      "3/3 [==============================] - 0s 4ms/step - loss: 1.8324 - accuracy: 0.2346\n",
      "Epoch 29/200\n",
      "3/3 [==============================] - 0s 4ms/step - loss: 1.8149 - accuracy: 0.2593\n",
      "Epoch 30/200\n",
      "3/3 [==============================] - 0s 4ms/step - loss: 1.7972 - accuracy: 0.2963\n",
      "Epoch 31/200\n",
      "3/3 [==============================] - 0s 4ms/step - loss: 1.7784 - accuracy: 0.3704\n",
      "Epoch 32/200\n",
      "3/3 [==============================] - 0s 4ms/step - loss: 1.7580 - accuracy: 0.4198\n",
      "Epoch 33/200\n",
      "3/3 [==============================] - 0s 4ms/step - loss: 1.7373 - accuracy: 0.4691\n",
      "Epoch 34/200\n",
      "3/3 [==============================] - 0s 3ms/step - loss: 1.7160 - accuracy: 0.4691\n",
      "Epoch 35/200\n",
      "3/3 [==============================] - 0s 4ms/step - loss: 1.6943 - accuracy: 0.4691\n",
      "Epoch 36/200\n",
      "3/3 [==============================] - 0s 4ms/step - loss: 1.6711 - accuracy: 0.4938\n",
      "Epoch 37/200\n",
      "3/3 [==============================] - 0s 3ms/step - loss: 1.6473 - accuracy: 0.4691\n",
      "Epoch 38/200\n",
      "3/3 [==============================] - 0s 3ms/step - loss: 1.6235 - accuracy: 0.5185\n",
      "Epoch 39/200\n",
      "3/3 [==============================] - 0s 3ms/step - loss: 1.5963 - accuracy: 0.5309\n",
      "Epoch 40/200\n",
      "3/3 [==============================] - 0s 4ms/step - loss: 1.5702 - accuracy: 0.5309\n",
      "Epoch 41/200\n",
      "3/3 [==============================] - 0s 3ms/step - loss: 1.5425 - accuracy: 0.5432\n",
      "Epoch 42/200\n",
      "3/3 [==============================] - 0s 3ms/step - loss: 1.5148 - accuracy: 0.5679\n",
      "Epoch 43/200\n",
      "3/3 [==============================] - 0s 3ms/step - loss: 1.4875 - accuracy: 0.5802\n",
      "Epoch 44/200\n",
      "3/3 [==============================] - 0s 3ms/step - loss: 1.4573 - accuracy: 0.6049\n",
      "Epoch 45/200\n",
      "3/3 [==============================] - 0s 3ms/step - loss: 1.4278 - accuracy: 0.6049\n",
      "Epoch 46/200\n",
      "3/3 [==============================] - 0s 4ms/step - loss: 1.3974 - accuracy: 0.6173\n",
      "Epoch 47/200\n",
      "3/3 [==============================] - 0s 4ms/step - loss: 1.3680 - accuracy: 0.6296\n",
      "Epoch 48/200\n",
      "3/3 [==============================] - 0s 3ms/step - loss: 1.3389 - accuracy: 0.6173\n",
      "Epoch 49/200\n",
      "3/3 [==============================] - 0s 3ms/step - loss: 1.3077 - accuracy: 0.6173\n",
      "Epoch 50/200\n",
      "3/3 [==============================] - 0s 3ms/step - loss: 1.2778 - accuracy: 0.6173\n",
      "Epoch 51/200\n",
      "3/3 [==============================] - 0s 4ms/step - loss: 1.2470 - accuracy: 0.6543\n",
      "Epoch 52/200\n",
      "3/3 [==============================] - 0s 4ms/step - loss: 1.2178 - accuracy: 0.6914\n",
      "Epoch 53/200\n",
      "3/3 [==============================] - 0s 3ms/step - loss: 1.1876 - accuracy: 0.7284\n",
      "Epoch 54/200\n",
      "3/3 [==============================] - 0s 4ms/step - loss: 1.1579 - accuracy: 0.7284\n",
      "Epoch 55/200\n",
      "3/3 [==============================] - 0s 3ms/step - loss: 1.1279 - accuracy: 0.7160\n",
      "Epoch 56/200\n",
      "3/3 [==============================] - 0s 4ms/step - loss: 1.0982 - accuracy: 0.6914\n",
      "Epoch 57/200\n",
      "3/3 [==============================] - 0s 0s/step - loss: 1.0708 - accuracy: 0.6790\n",
      "Epoch 58/200\n",
      "3/3 [==============================] - 0s 4ms/step - loss: 1.0449 - accuracy: 0.6790\n",
      "Epoch 59/200\n",
      "3/3 [==============================] - 0s 4ms/step - loss: 1.0140 - accuracy: 0.7037\n",
      "Epoch 60/200\n",
      "3/3 [==============================] - 0s 4ms/step - loss: 0.9864 - accuracy: 0.7284\n",
      "Epoch 61/200\n",
      "3/3 [==============================] - 0s 3ms/step - loss: 0.9602 - accuracy: 0.7531\n",
      "Epoch 62/200\n",
      "3/3 [==============================] - 0s 3ms/step - loss: 0.9343 - accuracy: 0.7901\n",
      "Epoch 63/200\n",
      "3/3 [==============================] - 0s 3ms/step - loss: 0.9108 - accuracy: 0.7901\n",
      "Epoch 64/200\n",
      "3/3 [==============================] - 0s 4ms/step - loss: 0.8838 - accuracy: 0.7901\n",
      "Epoch 65/200\n",
      "3/3 [==============================] - 0s 4ms/step - loss: 0.8607 - accuracy: 0.8025\n",
      "Epoch 66/200\n",
      "3/3 [==============================] - 0s 4ms/step - loss: 0.8374 - accuracy: 0.8148\n",
      "Epoch 67/200\n",
      "3/3 [==============================] - 0s 3ms/step - loss: 0.8142 - accuracy: 0.8272\n",
      "Epoch 68/200\n",
      "3/3 [==============================] - 0s 4ms/step - loss: 0.7931 - accuracy: 0.8395\n",
      "Epoch 69/200\n",
      "3/3 [==============================] - 0s 3ms/step - loss: 0.7733 - accuracy: 0.8395\n",
      "Epoch 70/200\n",
      "3/3 [==============================] - 0s 4ms/step - loss: 0.7519 - accuracy: 0.8519\n",
      "Epoch 71/200\n",
      "3/3 [==============================] - 0s 4ms/step - loss: 0.7321 - accuracy: 0.8642\n",
      "Epoch 72/200\n",
      "3/3 [==============================] - 0s 4ms/step - loss: 0.7125 - accuracy: 0.8765\n",
      "Epoch 73/200\n",
      "3/3 [==============================] - 0s 4ms/step - loss: 0.6938 - accuracy: 0.8765\n",
      "Epoch 74/200\n",
      "3/3 [==============================] - 0s 3ms/step - loss: 0.6760 - accuracy: 0.8889\n",
      "Epoch 75/200\n",
      "3/3 [==============================] - 0s 3ms/step - loss: 0.6587 - accuracy: 0.8765\n",
      "Epoch 76/200\n",
      "3/3 [==============================] - 0s 4ms/step - loss: 0.6418 - accuracy: 0.9012\n",
      "Epoch 77/200\n",
      "3/3 [==============================] - 0s 4ms/step - loss: 0.6251 - accuracy: 0.9012\n",
      "Epoch 78/200\n",
      "3/3 [==============================] - 0s 4ms/step - loss: 0.6096 - accuracy: 0.9012\n",
      "Epoch 79/200\n",
      "3/3 [==============================] - 0s 3ms/step - loss: 0.5962 - accuracy: 0.9259\n",
      "Epoch 80/200\n",
      "3/3 [==============================] - 0s 3ms/step - loss: 0.5794 - accuracy: 0.9383\n",
      "Epoch 81/200\n",
      "3/3 [==============================] - 0s 3ms/step - loss: 0.5650 - accuracy: 0.9506\n",
      "Epoch 82/200\n",
      "3/3 [==============================] - 0s 5ms/step - loss: 0.5535 - accuracy: 0.9630\n",
      "Epoch 83/200\n",
      "3/3 [==============================] - 0s 7ms/step - loss: 0.5384 - accuracy: 0.9506\n",
      "Epoch 84/200\n",
      "3/3 [==============================] - 0s 4ms/step - loss: 0.5246 - accuracy: 0.9506\n",
      "Epoch 85/200\n",
      "3/3 [==============================] - 0s 4ms/step - loss: 0.5121 - accuracy: 0.9630\n",
      "Epoch 86/200\n",
      "3/3 [==============================] - 0s 4ms/step - loss: 0.4999 - accuracy: 0.9630\n",
      "Epoch 87/200\n",
      "3/3 [==============================] - 0s 4ms/step - loss: 0.4867 - accuracy: 0.9630\n",
      "Epoch 88/200\n",
      "3/3 [==============================] - 0s 4ms/step - loss: 0.4749 - accuracy: 0.9753\n",
      "Epoch 89/200\n",
      "3/3 [==============================] - 0s 3ms/step - loss: 0.4635 - accuracy: 0.9753\n",
      "Epoch 90/200\n",
      "3/3 [==============================] - 0s 4ms/step - loss: 0.4526 - accuracy: 0.9753\n",
      "Epoch 91/200\n",
      "3/3 [==============================] - 0s 4ms/step - loss: 0.4440 - accuracy: 0.9630\n",
      "Epoch 92/200\n",
      "3/3 [==============================] - 0s 4ms/step - loss: 0.4324 - accuracy: 0.9630\n",
      "Epoch 93/200\n",
      "3/3 [==============================] - 0s 3ms/step - loss: 0.4213 - accuracy: 0.9753\n",
      "Epoch 94/200\n",
      "3/3 [==============================] - 0s 4ms/step - loss: 0.4120 - accuracy: 0.9753\n",
      "Epoch 95/200\n",
      "3/3 [==============================] - 0s 460us/step - loss: 0.4015 - accuracy: 0.9753\n",
      "Epoch 96/200\n",
      "3/3 [==============================] - 0s 4ms/step - loss: 0.3918 - accuracy: 0.9753\n",
      "Epoch 97/200\n",
      "3/3 [==============================] - 0s 4ms/step - loss: 0.3824 - accuracy: 0.9753\n",
      "Epoch 98/200\n",
      "3/3 [==============================] - 0s 14ms/step - loss: 0.3739 - accuracy: 0.9753\n",
      "Epoch 99/200\n",
      "3/3 [==============================] - 0s 4ms/step - loss: 0.3650 - accuracy: 0.9753\n",
      "Epoch 100/200\n",
      "3/3 [==============================] - 0s 4ms/step - loss: 0.3562 - accuracy: 0.9753\n",
      "Epoch 101/200\n",
      "3/3 [==============================] - 0s 4ms/step - loss: 0.3490 - accuracy: 0.9753\n",
      "Epoch 102/200\n",
      "3/3 [==============================] - 0s 4ms/step - loss: 0.3400 - accuracy: 0.9753\n",
      "Epoch 103/200\n",
      "3/3 [==============================] - 0s 4ms/step - loss: 0.3330 - accuracy: 0.9753\n",
      "Epoch 104/200\n",
      "3/3 [==============================] - 0s 3ms/step - loss: 0.3261 - accuracy: 0.9753\n",
      "Epoch 105/200\n",
      "3/3 [==============================] - 0s 4ms/step - loss: 0.3193 - accuracy: 0.9753\n",
      "Epoch 106/200\n",
      "3/3 [==============================] - 0s 4ms/step - loss: 0.3109 - accuracy: 0.9753\n",
      "Epoch 107/200\n",
      "3/3 [==============================] - 0s 4ms/step - loss: 0.3039 - accuracy: 0.9753\n",
      "Epoch 108/200\n",
      "3/3 [==============================] - 0s 4ms/step - loss: 0.2973 - accuracy: 0.9753\n",
      "Epoch 109/200\n",
      "3/3 [==============================] - 0s 4ms/step - loss: 0.2922 - accuracy: 0.9753\n",
      "Epoch 110/200\n",
      "3/3 [==============================] - 0s 3ms/step - loss: 0.2853 - accuracy: 0.9753\n",
      "Epoch 111/200\n",
      "3/3 [==============================] - 0s 3ms/step - loss: 0.2797 - accuracy: 0.9753\n",
      "Epoch 112/200\n",
      "3/3 [==============================] - 0s 4ms/step - loss: 0.2731 - accuracy: 0.9753\n",
      "Epoch 113/200\n",
      "3/3 [==============================] - 0s 3ms/step - loss: 0.2689 - accuracy: 0.9753\n",
      "Epoch 114/200\n",
      "3/3 [==============================] - 0s 3ms/step - loss: 0.2624 - accuracy: 0.9753\n",
      "Epoch 115/200\n",
      "3/3 [==============================] - 0s 4ms/step - loss: 0.2559 - accuracy: 0.9753\n",
      "Epoch 116/200\n",
      "3/3 [==============================] - 0s 3ms/step - loss: 0.2519 - accuracy: 0.9753\n",
      "Epoch 117/200\n",
      "3/3 [==============================] - 0s 3ms/step - loss: 0.2453 - accuracy: 0.9753\n",
      "Epoch 118/200\n",
      "3/3 [==============================] - 0s 3ms/step - loss: 0.2419 - accuracy: 0.9753\n",
      "Epoch 119/200\n",
      "3/3 [==============================] - 0s 3ms/step - loss: 0.2376 - accuracy: 0.9753\n",
      "Epoch 120/200\n",
      "3/3 [==============================] - 0s 4ms/step - loss: 0.2315 - accuracy: 0.9753\n",
      "Epoch 121/200\n",
      "3/3 [==============================] - 0s 4ms/step - loss: 0.2282 - accuracy: 0.9753\n",
      "Epoch 122/200\n",
      "3/3 [==============================] - 0s 3ms/step - loss: 0.2224 - accuracy: 0.9753\n",
      "Epoch 123/200\n",
      "3/3 [==============================] - 0s 3ms/step - loss: 0.2189 - accuracy: 0.9877\n",
      "Epoch 124/200\n",
      "3/3 [==============================] - 0s 3ms/step - loss: 0.2172 - accuracy: 0.9877\n",
      "Epoch 125/200\n",
      "3/3 [==============================] - 0s 4ms/step - loss: 0.2094 - accuracy: 0.9877\n",
      "Epoch 126/200\n",
      "3/3 [==============================] - 0s 4ms/step - loss: 0.2102 - accuracy: 0.9753\n",
      "Epoch 127/200\n",
      "3/3 [==============================] - 0s 4ms/step - loss: 0.2044 - accuracy: 0.9753\n",
      "Epoch 128/200\n",
      "3/3 [==============================] - 0s 4ms/step - loss: 0.1979 - accuracy: 0.9877\n",
      "Epoch 129/200\n",
      "3/3 [==============================] - 0s 4ms/step - loss: 0.1965 - accuracy: 0.9877\n",
      "Epoch 130/200\n",
      "3/3 [==============================] - 0s 4ms/step - loss: 0.1910 - accuracy: 0.9877\n",
      "Epoch 131/200\n",
      "3/3 [==============================] - 0s 3ms/step - loss: 0.1876 - accuracy: 0.9877\n",
      "Epoch 132/200\n",
      "3/3 [==============================] - 0s 3ms/step - loss: 0.1847 - accuracy: 0.9877\n",
      "Epoch 133/200\n",
      "3/3 [==============================] - 0s 5ms/step - loss: 0.1804 - accuracy: 0.9877\n",
      "Epoch 134/200\n",
      "3/3 [==============================] - 0s 4ms/step - loss: 0.1768 - accuracy: 0.9877\n",
      "Epoch 135/200\n",
      "3/3 [==============================] - 0s 8ms/step - loss: 0.1757 - accuracy: 0.9877\n",
      "Epoch 136/200\n",
      "3/3 [==============================] - 0s 4ms/step - loss: 0.1717 - accuracy: 0.9877\n",
      "Epoch 137/200\n",
      "3/3 [==============================] - 0s 4ms/step - loss: 0.1683 - accuracy: 0.9877\n",
      "Epoch 138/200\n",
      "3/3 [==============================] - 0s 4ms/step - loss: 0.1654 - accuracy: 0.9877\n",
      "Epoch 139/200\n",
      "3/3 [==============================] - 0s 4ms/step - loss: 0.1620 - accuracy: 0.9877\n",
      "Epoch 140/200\n",
      "3/3 [==============================] - 0s 4ms/step - loss: 0.1599 - accuracy: 0.9877\n",
      "Epoch 141/200\n",
      "3/3 [==============================] - 0s 4ms/step - loss: 0.1577 - accuracy: 0.9877\n",
      "Epoch 142/200\n",
      "3/3 [==============================] - 0s 4ms/step - loss: 0.1538 - accuracy: 0.9877\n",
      "Epoch 143/200\n",
      "3/3 [==============================] - 0s 4ms/step - loss: 0.1508 - accuracy: 0.9877\n",
      "Epoch 144/200\n",
      "3/3 [==============================] - 0s 4ms/step - loss: 0.1484 - accuracy: 0.9877\n",
      "Epoch 145/200\n",
      "3/3 [==============================] - 0s 3ms/step - loss: 0.1463 - accuracy: 0.9877\n",
      "Epoch 146/200\n",
      "3/3 [==============================] - 0s 4ms/step - loss: 0.1438 - accuracy: 0.9877\n",
      "Epoch 147/200\n",
      "3/3 [==============================] - 0s 4ms/step - loss: 0.1419 - accuracy: 0.9877\n",
      "Epoch 148/200\n",
      "3/3 [==============================] - 0s 4ms/step - loss: 0.1395 - accuracy: 0.9877\n",
      "Epoch 149/200\n",
      "3/3 [==============================] - 0s 3ms/step - loss: 0.1388 - accuracy: 0.9877\n",
      "Epoch 150/200\n",
      "3/3 [==============================] - 0s 4ms/step - loss: 0.1352 - accuracy: 0.9877\n",
      "Epoch 151/200\n",
      "3/3 [==============================] - 0s 3ms/step - loss: 0.1312 - accuracy: 0.9877\n",
      "Epoch 152/200\n",
      "3/3 [==============================] - 0s 4ms/step - loss: 0.1319 - accuracy: 0.9877\n",
      "Epoch 153/200\n",
      "3/3 [==============================] - 0s 3ms/step - loss: 0.1282 - accuracy: 0.9877\n",
      "Epoch 154/200\n",
      "3/3 [==============================] - 0s 4ms/step - loss: 0.1248 - accuracy: 0.9877\n",
      "Epoch 155/200\n",
      "3/3 [==============================] - 0s 3ms/step - loss: 0.1263 - accuracy: 0.9877\n",
      "Epoch 156/200\n",
      "3/3 [==============================] - 0s 4ms/step - loss: 0.1230 - accuracy: 0.9877\n",
      "Epoch 157/200\n",
      "3/3 [==============================] - 0s 3ms/step - loss: 0.1196 - accuracy: 0.9877\n",
      "Epoch 158/200\n",
      "3/3 [==============================] - 0s 4ms/step - loss: 0.1192 - accuracy: 0.9877\n",
      "Epoch 159/200\n",
      "3/3 [==============================] - 0s 3ms/step - loss: 0.1169 - accuracy: 0.9877\n",
      "Epoch 160/200\n",
      "3/3 [==============================] - 0s 4ms/step - loss: 0.1135 - accuracy: 0.9877\n",
      "Epoch 161/200\n",
      "3/3 [==============================] - 0s 4ms/step - loss: 0.1143 - accuracy: 0.9877\n",
      "Epoch 162/200\n",
      "3/3 [==============================] - 0s 4ms/step - loss: 0.1129 - accuracy: 0.9877\n",
      "Epoch 163/200\n",
      "3/3 [==============================] - 0s 4ms/step - loss: 0.1098 - accuracy: 0.9877\n",
      "Epoch 164/200\n",
      "3/3 [==============================] - 0s 3ms/step - loss: 0.1079 - accuracy: 0.9877\n",
      "Epoch 165/200\n",
      "3/3 [==============================] - 0s 3ms/step - loss: 0.1068 - accuracy: 0.9877\n",
      "Epoch 166/200\n",
      "3/3 [==============================] - 0s 4ms/step - loss: 0.1042 - accuracy: 0.9877\n",
      "Epoch 167/200\n",
      "3/3 [==============================] - 0s 3ms/step - loss: 0.1031 - accuracy: 0.9877\n",
      "Epoch 168/200\n",
      "3/3 [==============================] - 0s 4ms/step - loss: 0.1011 - accuracy: 0.9877\n",
      "Epoch 169/200\n",
      "3/3 [==============================] - 0s 3ms/step - loss: 0.0997 - accuracy: 0.9877\n",
      "Epoch 170/200\n",
      "3/3 [==============================] - 0s 4ms/step - loss: 0.0983 - accuracy: 0.9877\n",
      "Epoch 171/200\n",
      "3/3 [==============================] - 0s 4ms/step - loss: 0.0971 - accuracy: 0.9877\n",
      "Epoch 172/200\n",
      "3/3 [==============================] - 0s 4ms/step - loss: 0.0955 - accuracy: 1.0000\n",
      "Epoch 173/200\n",
      "3/3 [==============================] - 0s 4ms/step - loss: 0.0940 - accuracy: 1.0000\n",
      "Epoch 174/200\n",
      "3/3 [==============================] - 0s 2ms/step - loss: 0.0928 - accuracy: 1.0000\n",
      "Epoch 175/200\n",
      "3/3 [==============================] - 0s 4ms/step - loss: 0.0917 - accuracy: 1.0000\n",
      "Epoch 176/200\n",
      "3/3 [==============================] - 0s 4ms/step - loss: 0.0909 - accuracy: 1.0000\n",
      "Epoch 177/200\n",
      "3/3 [==============================] - 0s 4ms/step - loss: 0.0892 - accuracy: 1.0000\n",
      "Epoch 178/200\n",
      "3/3 [==============================] - 0s 4ms/step - loss: 0.0877 - accuracy: 1.0000\n",
      "Epoch 179/200\n",
      "3/3 [==============================] - 0s 4ms/step - loss: 0.0865 - accuracy: 1.0000\n",
      "Epoch 180/200\n",
      "3/3 [==============================] - 0s 4ms/step - loss: 0.0852 - accuracy: 1.0000\n",
      "Epoch 181/200\n",
      "3/3 [==============================] - 0s 4ms/step - loss: 0.0843 - accuracy: 1.0000\n",
      "Epoch 182/200\n",
      "3/3 [==============================] - 0s 4ms/step - loss: 0.0830 - accuracy: 1.0000\n",
      "Epoch 183/200\n",
      "3/3 [==============================] - 0s 4ms/step - loss: 0.0815 - accuracy: 1.0000\n",
      "Epoch 184/200\n",
      "3/3 [==============================] - 0s 4ms/step - loss: 0.0809 - accuracy: 1.0000\n",
      "Epoch 185/200\n",
      "3/3 [==============================] - 0s 4ms/step - loss: 0.0796 - accuracy: 1.0000\n",
      "Epoch 186/200\n",
      "3/3 [==============================] - 0s 3ms/step - loss: 0.0791 - accuracy: 1.0000\n",
      "Epoch 187/200\n",
      "3/3 [==============================] - 0s 4ms/step - loss: 0.0775 - accuracy: 1.0000\n",
      "Epoch 188/200\n",
      "3/3 [==============================] - 0s 3ms/step - loss: 0.0771 - accuracy: 1.0000\n",
      "Epoch 189/200\n",
      "3/3 [==============================] - 0s 3ms/step - loss: 0.0756 - accuracy: 1.0000\n",
      "Epoch 190/200\n",
      "3/3 [==============================] - 0s 3ms/step - loss: 0.0742 - accuracy: 1.0000\n",
      "Epoch 191/200\n",
      "3/3 [==============================] - 0s 4ms/step - loss: 0.0737 - accuracy: 1.0000\n",
      "Epoch 192/200\n",
      "3/3 [==============================] - 0s 3ms/step - loss: 0.0726 - accuracy: 1.0000\n",
      "Epoch 193/200\n",
      "3/3 [==============================] - 0s 543us/step - loss: 0.0717 - accuracy: 1.0000\n",
      "Epoch 194/200\n",
      "3/3 [==============================] - 0s 0s/step - loss: 0.0707 - accuracy: 1.0000\n",
      "Epoch 195/200\n",
      "3/3 [==============================] - 0s 5ms/step - loss: 0.0698 - accuracy: 1.0000\n",
      "Epoch 196/200\n",
      "3/3 [==============================] - 0s 5ms/step - loss: 0.0687 - accuracy: 1.0000\n",
      "Epoch 197/200\n",
      "3/3 [==============================] - 0s 5ms/step - loss: 0.0678 - accuracy: 1.0000\n",
      "Epoch 198/200\n",
      "3/3 [==============================] - 0s 513us/step - loss: 0.0671 - accuracy: 1.0000\n",
      "Epoch 199/200\n",
      "3/3 [==============================] - 0s 0s/step - loss: 0.0662 - accuracy: 1.0000\n",
      "Epoch 200/200\n",
      "3/3 [==============================] - 0s 6ms/step - loss: 0.0654 - accuracy: 1.0000\n"
     ]
    }
   ],
   "source": [
    "train = model.fit(x_train,y_train,epochs=200)"
   ],
   "metadata": {
    "collapsed": false,
    "pycharm": {
     "name": "#%%\n"
    }
   }
  },
  {
   "cell_type": "code",
   "execution_count": 30,
   "outputs": [
    {
     "data": {
      "text/plain": "<matplotlib.legend.Legend at 0x160559ee550>"
     },
     "execution_count": 30,
     "metadata": {},
     "output_type": "execute_result"
    },
    {
     "data": {
      "text/plain": "<Figure size 432x288 with 1 Axes>",
      "image/png": "[encoded data removed]"
     },
     "metadata": {},
     "output_type": "display_data"
    }
   ],
   "source": [
    "plt.plot(train.history['accuracy'],label='training set accuracy')\n",
    "plt.plot(train.history['loss'],label='training set loss')\n",
    "plt.legend()\n"
   ],
   "metadata": {
    "collapsed": false,
    "pycharm": {
     "name": "#%%\n"
    }
   }
  },
  {
   "cell_type": "code",
   "execution_count": 34,
   "outputs": [],
   "source": [
    "import random\n",
    "\n",
    "\n",
    "def predict(prediction_input):\n",
    "    texts_p = []\n",
    "    #removing punctuation and converting to lowercase\n",
    "    prediction_input = [letters.lower() for letters in prediction_input if letters not in string.punctuation]\n",
    "    prediction_input = ''.join(prediction_input)\n",
    "    texts_p.append(prediction_input)\n",
    "\n",
    "    #tokenizing and padding\n",
    "    prediction_input = tokenizer.texts_to_sequences(texts_p)\n",
    "    prediction_input = np.array(prediction_input).reshape(-1)\n",
    "    prediction_input = pad_sequences([prediction_input],input_shape)\n",
    "\n",
    "    #getting output from model\n",
    "    output = model.predict(prediction_input)\n",
    "    output = output.argmax()\n",
    "\n",
    "    #finding the right tag and predicting\n",
    "    response_tag = le.inverse_transform([output])[0]\n",
    "    print(\"Going Merry : \",random.choice(responses[response_tag]))\n"
   ],
   "metadata": {
    "collapsed": false,
    "pycharm": {
     "name": "#%%\n"
    }
   }
  },
  {
   "cell_type": "code",
   "execution_count": 35,
   "outputs": [
    {
     "name": "stdout",
     "output_type": "stream",
     "text": [
      "Going Merry :  I am doing good. Life is boring. need to go on an adventure\n"
     ]
    }
   ],
   "source": [
    "predict(\"how are you\")"
   ],
   "metadata": {
    "collapsed": false,
    "pycharm": {
     "name": "#%%\n"
    }
   }
  },
  {
   "cell_type": "code",
   "execution_count": 36,
   "outputs": [
    {
     "name": "stdout",
     "output_type": "stream",
     "text": [
      "Going Merry :  I am a The Great Pirate Bot , you can call me Going Merry\n"
     ]
    }
   ],
   "source": [
    "predict(\"what is your name\")"
   ],
   "metadata": {
    "collapsed": false,
    "pycharm": {
     "name": "#%%\n"
    }
   }
  },
  {
   "cell_type": "code",
   "execution_count": 37,
   "outputs": [
    {
     "name": "stdout",
     "output_type": "stream",
     "text": [
      "Going Merry :  I am a The Great Pirate Bot , you can call me Going Merry\n"
     ]
    }
   ],
   "source": [
    "predict(\"what is your age\")"
   ],
   "metadata": {
    "collapsed": false,
    "pycharm": {
     "name": "#%%\n"
    }
   }
  },
  {
   "cell_type": "code",
   "execution_count": 39,
   "outputs": [
    {
     "name": "stdout",
     "output_type": "stream",
     "text": [
      "Going Merry :  My name is Going Merry and I am here to answer your questions regarding our organization. go ahead and shoot\n"
     ]
    }
   ],
   "source": [
    "predict(\"what is your profession\")"
   ],
   "metadata": {
    "collapsed": false,
    "pycharm": {
     "name": "#%%\n"
    }
   }
  },
  {
   "cell_type": "code",
   "execution_count": 40,
   "outputs": [
    {
     "name": "stdout",
     "output_type": "stream",
     "text": [
      "Going Merry :  You can call me TechBot and I am here to Help you\n"
     ]
    }
   ],
   "source": [
    "predict(\"what is your hobby\")"
   ],
   "metadata": {
    "collapsed": false,
    "pycharm": {
     "name": "#%%\n"
    }
   }
  },
  {
   "cell_type": "code",
   "execution_count": 41,
   "outputs": [
    {
     "name": "stdout",
     "output_type": "stream",
     "text": [
      "Going Merry :  You can call me TechBot and I am here to Help you\n"
     ]
    }
   ],
   "source": [
    "predict(\"what is your favourite food\")"
   ],
   "metadata": {
    "collapsed": false,
    "pycharm": {
     "name": "#%%\n"
    }
   }
  },
  {
   "cell_type": "code",
   "execution_count": 42,
   "outputs": [
    {
     "name": "stdout",
     "output_type": "stream",
     "text": [
      "Going Merry :  Going Merry at your service\n"
     ]
    }
   ],
   "source": [
    "predict(\"what is your favourite movie\")"
   ],
   "metadata": {
    "collapsed": false,
    "pycharm": {
     "name": "#%%\n"
    }
   }
  },
  {
   "cell_type": "code",
   "execution_count": 51,
   "outputs": [
    {
     "name": "stdout",
     "output_type": "stream",
     "text": [
      "Going Merry :  I am Going Merry and you could ask me questions about our organization\n",
      "Going Merry :  I am Going Merry and you could ask me questions about our organization\n",
      "Going Merry :  I am Going Merry and you could ask me questions about our organization\n",
      "Going Merry :  My name is Going Merry and yes, I am the G.O.A.T\n",
      "Going Merry :  My name is Going Merry and yes, I am the G.O.A.T\n"
     ]
    }
   ],
   "source": [
    "predict(\"Who are you?\")\n",
    "predict(\"Who are you?\")\n",
    "predict(\"Who are you?\")\n",
    "predict(\"Who are you?\")\n",
    "predict(\"Who are you?\")\n"
   ],
   "metadata": {
    "collapsed": false,
    "pycharm": {
     "name": "#%%\n"
    }
   }
  },
  {
   "cell_type": "code",
   "execution_count": null,
   "outputs": [],
   "source": [],
   "metadata": {
    "collapsed": false,
    "pycharm": {
     "name": "#%%\n"
    }
   }
  }
 ],
 "metadata": {
  "kernelspec": {
   "display_name": "Python 3",
   "language": "python",
   "name": "python3"
  },
  "language_info": {
   "codemirror_mode": {
    "name": "ipython",
    "version": 2
   },
   "file_extension": ".py",
   "mimetype": "text/x-python",
   "name": "python",
   "nbconvert_exporter": "python",
   "pygments_lexer": "ipython2",
   "version": "2.7.6"
  }
 },
 "nbformat": 4,
 "nbformat_minor": 0
}